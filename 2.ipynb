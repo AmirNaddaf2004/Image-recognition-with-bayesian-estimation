{
 "cells": [
  {
   "cell_type": "code",
   "execution_count": 17,
   "metadata": {},
   "outputs": [
    {
     "name": "stdout",
     "output_type": "stream",
     "text": [
      "for n = 10 and k = 10 it returns 30.2\n",
      "for n = 10 and k = 100 it returns 29.59\n",
      "for n = 10 and k = 1000 it returns 28.879\n"
     ]
    }
   ],
   "source": [
    "import pandas as pd\n",
    "import numpy as np\n",
    "import matplotlib.pyplot as plt\n",
    "import scipy.stats as stats\n",
    "import sympy as sp\n",
    "\n",
    "def monte_carlo(n, k):\n",
    "    total_tries = []\n",
    "    for _ in range(k):\n",
    "        tries = 0\n",
    "        coupons = [0] * n\n",
    "        while not all(c != 0 for c in coupons):\n",
    "            tries += 1\n",
    "            coupon = np.random.randint(0,n)\n",
    "            coupons[coupon] += 1\n",
    "        total_tries.append(tries)\n",
    "    return sum(total_tries) / k\n",
    "\n",
    "n = 10\n",
    "print(f\"for n = 10 and k = 10 it returns {monte_carlo(n, k=10)}\")\n",
    "print(f\"for n = 10 and k = 100 it returns {monte_carlo(n, k=100)}\")\n",
    "print(f\"for n = 10 and k = 1000 it returns {monte_carlo(n, k=1000)}\")\n"
   ]
  },
  {
   "cell_type": "code",
   "execution_count": 8,
   "metadata": {},
   "outputs": [
    {
     "name": "stdout",
     "output_type": "stream",
     "text": [
      "expectation is 7381/252\n"
     ]
    }
   ],
   "source": [
    "i = sp.symbols('i', integer=True)\n",
    "s = sp.symbols('s', real=True)\n",
    "p = (n - i + 1) / n\n",
    "mgf_Xi = (p * sp.exp(s)) / (1 - (1 - p) * sp.exp(s))\n",
    "mgf_X = 1\n",
    "for k in range(1, 11):\n",
    "    mgf_X *= mgf_Xi.subs({i : k})\n",
    "print(f\"expectation is {sp.diff(mgf_X, s).subs({s:0})}\")"
   ]
  }
 ],
 "metadata": {
  "kernelspec": {
   "display_name": "Python 3",
   "language": "python",
   "name": "python3"
  },
  "language_info": {
   "codemirror_mode": {
    "name": "ipython",
    "version": 3
   },
   "file_extension": ".py",
   "mimetype": "text/x-python",
   "name": "python",
   "nbconvert_exporter": "python",
   "pygments_lexer": "ipython3",
   "version": "3.8.0"
  }
 },
 "nbformat": 4,
 "nbformat_minor": 2
}
